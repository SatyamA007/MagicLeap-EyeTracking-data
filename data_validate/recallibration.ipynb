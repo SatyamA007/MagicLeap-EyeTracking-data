{
 "cells": [
  {
   "cell_type": "code",
   "execution_count": 31,
   "id": "d959e25d",
   "metadata": {},
   "outputs": [],
   "source": [
    "import numpy as np\n",
    "import pandas as pd\n",
    "import plotly.express as px\n",
    "from operator import methodcaller\n",
    "import os\n",
    "from sklearn import linear_model\n",
    "from util import *\n",
    "import math"
   ]
  },
  {
   "cell_type": "code",
   "execution_count": 32,
   "id": "f1c3309b",
   "metadata": {},
   "outputs": [],
   "source": [
    "\n",
    "files = [f for f in os.listdir('.') if os.path.isfile(f)]\n",
    "data_files = []\n",
    "\n",
    "for f in files:\n",
    "    if \"callibrate\" in f:\n",
    "        callibration_file = f\n",
    "    elif \"csv\" in f:\n",
    "        data_files.append(f)"
   ]
  },
  {
   "cell_type": "code",
   "execution_count": 33,
   "id": "6f88113e",
   "metadata": {},
   "outputs": [],
   "source": [
    "vis_angles_callib = vis_angles_from_file(callibration_file)\n",
    "X1 = vis_angles_callib[['gaze_vis_x','gaze_vis_y']]\n",
    "y1 = vis_angles_callib['target_vis_x']\n",
    "\n",
    "X2 = vis_angles_callib[['gaze_vis_x','gaze_vis_y']]\n",
    "y2 = vis_angles_callib['target_vis_y']"
   ]
  },
  {
   "cell_type": "code",
   "execution_count": 34,
   "id": "24935b22",
   "metadata": {},
   "outputs": [],
   "source": [
    "x_regr = linear_model.LinearRegression()\n",
    "x_regr.fit(X1.values, y1.values)\n",
    "coeffs1 = x_regr.coef_\n",
    "\n",
    "y_regr = linear_model.LinearRegression()\n",
    "y_regr.fit(X2.values, y2.values)\n",
    "coeffs2 = y_regr.coef_"
   ]
  },
  {
   "cell_type": "code",
   "execution_count": 41,
   "id": "bb3a1846",
   "metadata": {},
   "outputs": [],
   "source": [
    "if not os.path.exists('recal'):\n",
    "    os.makedirs('recal')\n",
    "\n",
    "for f in data_files:\n",
    "    df = pd.read_csv(f)\n",
    "    indexExpStarts = 0\n",
    "    for index, row in df.iterrows():\n",
    "        if row['PathIDX'] != 99:\n",
    "            indexExpStarts = index\n",
    "            break\n",
    "\n",
    "    indexExpStarts = max(0, indexExpStarts-500)\n",
    "    df = df.drop(range(indexExpStarts))\n",
    "    df = df[df[\"left_right_eye_is_blinking\"].str.contains(\"True\") == False]\n",
    "    df['seconds'] = df['seconds'].apply(lambda x: x-df['seconds'].iat[0])\n",
    "    df['frame'] = df['frame'].apply(lambda x: x-df['frame'].iat[0])\n",
    "\n",
    "    df.index = np.arange(0, len(df))\n",
    "    df['gaze_x_recal'] = df.apply(lambda row: x_regr.predict([[row['gaze_vis_x'],row['gaze_vis_y']]])[0], axis = 1)\n",
    "    df['gaze_y_recal'] = df.apply(lambda row: y_regr.predict([[row['gaze_vis_x'],row['gaze_vis_y']]])[0], axis = 1)\n",
    "\n",
    "    df = df[['frame','PathIDX','seconds','gaze_vis_x','gaze_vis_y','gaze_x_recal','gaze_y_recal', 'target_vis_x', 'target_vis_y']]\n",
    "    df.to_csv(\"recal/\"+f[:-4]+'_recal.csv')\n",
    "\n",
    "    spatial_euc_errors(df)"
   ]
  }
 ],
 "metadata": {
  "kernelspec": {
   "display_name": "Python 3 (ipykernel)",
   "language": "python",
   "name": "python3"
  },
  "language_info": {
   "codemirror_mode": {
    "name": "ipython",
    "version": 3
   },
   "file_extension": ".py",
   "mimetype": "text/x-python",
   "name": "python",
   "nbconvert_exporter": "python",
   "pygments_lexer": "ipython3",
   "version": "3.9.13"
  }
 },
 "nbformat": 4,
 "nbformat_minor": 5
}
