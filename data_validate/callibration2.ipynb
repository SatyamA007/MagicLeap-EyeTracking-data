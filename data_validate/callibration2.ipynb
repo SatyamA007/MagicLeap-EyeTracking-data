{
 "cells": [
  {
   "cell_type": "code",
   "execution_count": 1,
   "id": "d959e25d",
   "metadata": {},
   "outputs": [],
   "source": [
    "import numpy as np\n",
    "import pandas as pd\n",
    "import plotly.express as px\n",
    "from operator import methodcaller\n",
    "import os\n",
    "from sklearn import linear_model\n",
    "from util import *\n",
    "import math"
   ]
  },
  {
   "cell_type": "code",
   "execution_count": 2,
   "id": "f1c3309b",
   "metadata": {},
   "outputs": [],
   "source": [
    "\n",
    "files = [f for f in os.listdir('.') if os.path.isfile(f)]\n",
    "data_files = []\n",
    "\n",
    "for f in files:\n",
    "    if \"callibrate\" in f:\n",
    "        callibration_file = f\n",
    "    elif \"csv\" in f:\n",
    "        data_files.append(f)"
   ]
  },
  {
   "cell_type": "code",
   "execution_count": 3,
   "id": "6f88113e",
   "metadata": {},
   "outputs": [],
   "source": [
    "vis_angles_callib = vis_angles_from_file(callibration_file)\n",
    "X1 = vis_angles_callib[['gaze_vis_x','gaze_vis_y']]\n",
    "y1 = vis_angles_callib['target_vis_x']\n",
    "\n",
    "X2 = vis_angles_callib[['gaze_vis_x','gaze_vis_y']]\n",
    "y2 = vis_angles_callib['target_vis_y']"
   ]
  },
  {
   "cell_type": "code",
   "execution_count": 4,
   "id": "24935b22",
   "metadata": {},
   "outputs": [],
   "source": [
    "x_regr = linear_model.LinearRegression()\n",
    "x_regr.fit(X1.values, y1.values)\n",
    "coeffs1 = x_regr.coef_\n",
    "\n",
    "y_regr = linear_model.LinearRegression()\n",
    "y_regr.fit(X2.values, y2.values)\n",
    "coeffs2 = y_regr.coef_"
   ]
  },
  {
   "cell_type": "code",
   "execution_count": 5,
   "id": "bb3a1846",
   "metadata": {},
   "outputs": [
    {
     "name": "stdout",
     "output_type": "stream",
     "text": [
      "<class 'pandas.core.frame.DataFrame'>\n"
     ]
    },
    {
     "data": {
      "text/plain": [
       "[2.798550212300084, 2.0511574024021915, 1.504343098906712]"
      ]
     },
     "execution_count": 5,
     "metadata": {},
     "output_type": "execute_result"
    }
   ],
   "source": [
    "spatial_euc_errors(data_files[0], x_regr, y_regr)\n"
   ]
  }
 ],
 "metadata": {
  "kernelspec": {
   "display_name": "Python 3 (ipykernel)",
   "language": "python",
   "name": "python3"
  },
  "language_info": {
   "codemirror_mode": {
    "name": "ipython",
    "version": 3
   },
   "file_extension": ".py",
   "mimetype": "text/x-python",
   "name": "python",
   "nbconvert_exporter": "python",
   "pygments_lexer": "ipython3",
   "version": "3.9.13"
  }
 },
 "nbformat": 4,
 "nbformat_minor": 5
}
